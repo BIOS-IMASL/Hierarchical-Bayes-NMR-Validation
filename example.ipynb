{
 "cells": [
  {
   "cell_type": "code",
   "execution_count": null,
   "metadata": {},
   "outputs": [],
   "source": [
    "import matplotlib.pyplot as plt\n",
    "import arviz as az\n",
    "\n",
    "from functions import hierarchical_reg_one_protein, get_biomolecular_data\n",
    "from plot_diferencias import plot_cs_differences, plot_reference_curves"
   ]
  },
  {
   "cell_type": "code",
   "execution_count": null,
   "metadata": {},
   "outputs": [],
   "source": [
    "az.style.use(\"arviz-darkgrid\")"
   ]
  },
  {
   "cell_type": "code",
   "execution_count": null,
   "metadata": {},
   "outputs": [],
   "source": [
    "protein = '1D3Z'\n",
    "bmrb_code = '6457'\n",
    "samples = 2000"
   ]
  },
  {
   "cell_type": "code",
   "execution_count": null,
   "metadata": {
    "scrolled": false
   },
   "outputs": [],
   "source": [
    "with plt.style.context('default'):\n",
    "    ax, dataframe, perc_dict = plot_cs_differences(protein, \n",
    "                                                    save=True, \n",
    "                                                    pymol_session=True, \n",
    "                                                    bmrb_code=bmrb_code)"
   ]
  },
  {
   "cell_type": "code",
   "execution_count": null,
   "metadata": {},
   "outputs": [],
   "source": [
    "dataframe = get_biomolecular_data(protein, bmrb_code)\n",
    "\n",
    "(pps, \n",
    "index, \n",
    "categories, \n",
    "dataframe, \n",
    "trace_che, model) = hierarchical_reg_one_protein(dataframe)"
   ]
  },
  {
   "cell_type": "markdown",
   "metadata": {},
   "source": [
    "# LOO"
   ]
  },
  {
   "cell_type": "code",
   "execution_count": null,
   "metadata": {},
   "outputs": [],
   "source": [
    "mean_exp = 56.70\n",
    "std_exp = 4.90"
   ]
  },
  {
   "cell_type": "code",
   "execution_count": null,
   "metadata": {},
   "outputs": [],
   "source": [
    "idata = az.from_pymc3(trace_che, posterior_predictive={\"cheshift\":pps})\n",
    "idata.observed_data['cheshift'] = idata.observed_data['cheshift'] * std_exp + mean_exp"
   ]
  },
  {
   "cell_type": "code",
   "execution_count": null,
   "metadata": {},
   "outputs": [],
   "source": [
    "az.plot_loo_pit(idata, y=\"cheshift\", legend=False)"
   ]
  },
  {
   "cell_type": "markdown",
   "metadata": {},
   "source": [
    "# $\\hat \\kappa $ parameter"
   ]
  },
  {
   "cell_type": "code",
   "execution_count": null,
   "metadata": {},
   "outputs": [],
   "source": [
    "loo = az.loo(trace_che, pointwise=True)\n",
    "az.plot_khat(loo_d3z, hlines_kwargs={\"alpha\":0})"
   ]
  },
  {
   "cell_type": "markdown",
   "metadata": {},
   "source": [
    "# ELPD"
   ]
  },
  {
   "cell_type": "code",
   "execution_count": null,
   "metadata": {},
   "outputs": [],
   "source": [
    "_, ax = plt.subplots(figsize=(10,4))\n",
    "waic = az.waic(trace_che).waic_i.values\n",
    "ax.scatter(range(len(waic)), waic)\n",
    "ax.axhline(0, 0, len(waic), linestyle='dashed') "
   ]
  }
 ],
 "metadata": {
  "kernelspec": {
   "display_name": "Python 3",
   "language": "python",
   "name": "python3"
  },
  "language_info": {
   "codemirror_mode": {
    "name": "ipython",
    "version": 3
   },
   "file_extension": ".py",
   "mimetype": "text/x-python",
   "name": "python",
   "nbconvert_exporter": "python",
   "pygments_lexer": "ipython3",
   "version": "3.7.7"
  }
 },
 "nbformat": 4,
 "nbformat_minor": 4
}
