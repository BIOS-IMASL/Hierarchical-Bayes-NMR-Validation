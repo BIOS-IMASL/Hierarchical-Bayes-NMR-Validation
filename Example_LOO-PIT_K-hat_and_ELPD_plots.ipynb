{
 "cells": [
  {
   "cell_type": "markdown",
   "metadata": {},
   "source": [
    "## Example for LOO-PIT, K-hat and ELPD difference plots"
   ]
  },
  {
   "cell_type": "code",
   "execution_count": 1,
   "metadata": {},
   "outputs": [
    {
     "name": "stderr",
     "output_type": "stream",
     "text": [
      "WARNING (theano.configdefaults): g++ not available, if using conda: `conda install m2w64-toolchain`\n",
      "WARNING (theano.configdefaults): g++ not detected ! Theano will be unable to execute optimized C-implementations (for both CPU and GPU) and will default to Python implementations. Performance will be severely degraded. To remove this warning, set Theano flags cxx to an empty string.\n",
      "WARNING (theano.tensor.blas): Using NumPy C-API based implementation for BLAS functions.\n"
     ]
    }
   ],
   "source": [
    "%load_ext watermark\n",
    "import matplotlib.pyplot as plt\n",
    "import arviz as az\n",
    "import pandas as pd\n",
    "import numpy as np\n",
    "\n",
    "from hierarchical_bayes_nmr_validation import *"
   ]
  },
  {
   "cell_type": "code",
   "execution_count": 2,
   "metadata": {},
   "outputs": [],
   "source": [
    "az.style.use(\"arviz-darkgrid\")"
   ]
  },
  {
   "cell_type": "code",
   "execution_count": 3,
   "metadata": {},
   "outputs": [],
   "source": [
    "# .pdb files for the structures to compare must be on the .\\data folder along with the corresponding BMRB file\n",
    "protein1 = \"1UBQ\"\n",
    "protein2 = '1D3Z'\n",
    "bmrb_code = '6457'\n",
    "marker = 'x'\n",
    "samples = 2000"
   ]
  },
  {
   "cell_type": "code",
   "execution_count": 4,
   "metadata": {},
   "outputs": [
    {
     "name": "stderr",
     "output_type": "stream",
     "text": [
      "C:\\Users\\User\\Documents\\Agustina\\Hierarchical-Bayes-NMR-Validation\\cheshift\\_cheshift.py:660: RuntimeWarning: Mean of empty slice\n",
      "  cs_theo_ave = np.nanmean(cs_theo_array, axis=0)\n",
      "C:\\Users\\User\\Documents\\Agustina\\Hierarchical-Bayes-NMR-Validation\\cheshift\\_cheshift.py:660: RuntimeWarning: Mean of empty slice\n",
      "  cs_theo_ave = np.nanmean(cs_theo_array, axis=0)\n"
     ]
    }
   ],
   "source": [
    "# CS data is collected for every protein in a single dataframe\n",
    "dataframe_ubq = get_biomolecular_data(protein1, bmrb_code)\n",
    "dataframe_d3z = get_biomolecular_data(protein2, bmrb_code)"
   ]
  },
  {
   "cell_type": "code",
   "execution_count": null,
   "metadata": {},
   "outputs": [
    {
     "name": "stdout",
     "output_type": "stream",
     "text": [
      "Loaded reference trace from data\\trace_reference_structures.nc\n"
     ]
    },
    {
     "name": "stderr",
     "output_type": "stream",
     "text": [
      "C:\\Users\\User\\Anaconda3\\envs\\val\\lib\\site-packages\\pymc3\\sampling.py:465: FutureWarning: In an upcoming release, pm.sample will return an `arviz.InferenceData` object instead of a `MultiTrace` by default. You can pass return_inferencedata=True or return_inferencedata=False to be safe and silence this warning.\n",
      "  warnings.warn(\n",
      "Auto-assigning NUTS sampler...\n",
      "Initializing NUTS using jitter+adapt_diag...\n",
      "C:\\Users\\User\\Anaconda3\\envs\\val\\lib\\site-packages\\theano\\tensor\\elemwise.py:826: RuntimeWarning: divide by zero encountered in log\n",
      "  variables = ufunc(*ufunc_args, **ufunc_kwargs)\n",
      "C:\\Users\\User\\Anaconda3\\envs\\val\\lib\\site-packages\\theano\\tensor\\elemwise.py:826: RuntimeWarning: invalid value encountered in multiply\n",
      "  variables = ufunc(*ufunc_args, **ufunc_kwargs)\n",
      "C:\\Users\\User\\Anaconda3\\envs\\val\\lib\\site-packages\\theano\\tensor\\elemwise.py:826: RuntimeWarning: invalid value encountered in log\n",
      "  variables = ufunc(*ufunc_args, **ufunc_kwargs)\n",
      "Multiprocess sampling (4 chains in 4 jobs)\n",
      "NUTS: [σ, β, α, beta_sd, alpha_sd]\n"
     ]
    },
    {
     "data": {
      "text/html": [
       "\n",
       "    <div>\n",
       "        <style>\n",
       "            /* Turns off some styling */\n",
       "            progress {\n",
       "                /* gets rid of default border in Firefox and Opera. */\n",
       "                border: none;\n",
       "                /* Needs to be in here for Safari polyfill so background images work as expected. */\n",
       "                background-size: auto;\n",
       "            }\n",
       "            .progress-bar-interrupted, .progress-bar-interrupted::-webkit-progress-bar {\n",
       "                background: #F44336;\n",
       "            }\n",
       "        </style>\n",
       "      <progress value='16000' class='' max='16000' style='width:300px; height:20px; vertical-align: middle;'></progress>\n",
       "      100.00% [16000/16000 50:23<00:00 Sampling 4 chains, 0 divergences]\n",
       "    </div>\n",
       "    "
      ],
      "text/plain": [
       "<IPython.core.display.HTML object>"
      ]
     },
     "metadata": {},
     "output_type": "display_data"
    },
    {
     "name": "stderr",
     "output_type": "stream",
     "text": [
      "Sampling 4 chains for 2_000 tune and 2_000 draw iterations (8_000 + 8_000 draws total) took 3035 seconds.\n"
     ]
    },
    {
     "data": {
      "text/html": [
       "\n",
       "    <div>\n",
       "        <style>\n",
       "            /* Turns off some styling */\n",
       "            progress {\n",
       "                /* gets rid of default border in Firefox and Opera. */\n",
       "                border: none;\n",
       "                /* Needs to be in here for Safari polyfill so background images work as expected. */\n",
       "                background-size: auto;\n",
       "            }\n",
       "            .progress-bar-interrupted, .progress-bar-interrupted::-webkit-progress-bar {\n",
       "                background: #F44336;\n",
       "            }\n",
       "        </style>\n",
       "      <progress value='8000' class='' max='8000' style='width:300px; height:20px; vertical-align: middle;'></progress>\n",
       "      100.00% [8000/8000 00:31<00:00]\n",
       "    </div>\n",
       "    "
      ],
      "text/plain": [
       "<IPython.core.display.HTML object>"
      ]
     },
     "metadata": {},
     "output_type": "display_data"
    },
    {
     "name": "stdout",
     "output_type": "stream",
     "text": [
      "Loaded reference trace from data\\trace_reference_structures.nc\n"
     ]
    },
    {
     "name": "stderr",
     "output_type": "stream",
     "text": [
      "C:\\Users\\User\\Anaconda3\\envs\\val\\lib\\site-packages\\pymc3\\sampling.py:465: FutureWarning: In an upcoming release, pm.sample will return an `arviz.InferenceData` object instead of a `MultiTrace` by default. You can pass return_inferencedata=True or return_inferencedata=False to be safe and silence this warning.\n",
      "  warnings.warn(\n",
      "Auto-assigning NUTS sampler...\n",
      "Initializing NUTS using jitter+adapt_diag...\n",
      "C:\\Users\\User\\Anaconda3\\envs\\val\\lib\\site-packages\\theano\\tensor\\elemwise.py:826: RuntimeWarning: divide by zero encountered in log\n",
      "  variables = ufunc(*ufunc_args, **ufunc_kwargs)\n",
      "C:\\Users\\User\\Anaconda3\\envs\\val\\lib\\site-packages\\theano\\tensor\\elemwise.py:826: RuntimeWarning: invalid value encountered in multiply\n",
      "  variables = ufunc(*ufunc_args, **ufunc_kwargs)\n",
      "C:\\Users\\User\\Anaconda3\\envs\\val\\lib\\site-packages\\theano\\tensor\\elemwise.py:826: RuntimeWarning: invalid value encountered in log\n",
      "  variables = ufunc(*ufunc_args, **ufunc_kwargs)\n",
      "Multiprocess sampling (4 chains in 4 jobs)\n",
      "NUTS: [σ, β, α, beta_sd, alpha_sd]\n"
     ]
    },
    {
     "data": {
      "text/html": [
       "\n",
       "    <div>\n",
       "        <style>\n",
       "            /* Turns off some styling */\n",
       "            progress {\n",
       "                /* gets rid of default border in Firefox and Opera. */\n",
       "                border: none;\n",
       "                /* Needs to be in here for Safari polyfill so background images work as expected. */\n",
       "                background-size: auto;\n",
       "            }\n",
       "            .progress-bar-interrupted, .progress-bar-interrupted::-webkit-progress-bar {\n",
       "                background: #F44336;\n",
       "            }\n",
       "        </style>\n",
       "      <progress value='8573' class='' max='16000' style='width:300px; height:20px; vertical-align: middle;'></progress>\n",
       "      53.58% [8573/16000 28:10<24:24 Sampling 4 chains, 0 divergences]\n",
       "    </div>\n",
       "    "
      ],
      "text/plain": [
       "<IPython.core.display.HTML object>"
      ]
     },
     "metadata": {},
     "output_type": "display_data"
    }
   ],
   "source": [
    "# run hierarchical bayesian linear regression for each protein \n",
    "dataframe_ubq, trace_ubq, pps_ubq = hierarchical_reg_target(dataframe_ubq, samples=samples)\n",
    "dataframe_d3z, trace_d3z, pps_d3z= hierarchical_reg_target(dataframe_d3z, samples=samples)"
   ]
  },
  {
   "cell_type": "markdown",
   "metadata": {},
   "source": [
    "# LOO"
   ]
  },
  {
   "cell_type": "code",
   "execution_count": null,
   "metadata": {},
   "outputs": [],
   "source": [
    "# as the variables were centered before running the linear regression, the following variables will be used to reverse it\n",
    "_, _, reference_dataframe = load_data()\n",
    "mean_teo = reference_dataframe[\"ca_teo\"].mean()\n",
    "mean_exp = reference_dataframe[\"ca_exp\"].mean()\n",
    "std_teo = reference_dataframe[\"ca_teo\"].std()\n",
    "std_exp = reference_dataframe[\"ca_exp\"].std()"
   ]
  },
  {
   "cell_type": "code",
   "execution_count": null,
   "metadata": {},
   "outputs": [],
   "source": [
    "# build an inference data object for each structure\n",
    "idata_ubq = az.from_pymc3(trace_ubq, posterior_predictive={\"cheshift\":pps_ubq})\n",
    "idata_ubq.observed_data['cheshift'] = idata_ubq.observed_data['cheshift'] * std_exp + mean_exp"
   ]
  },
  {
   "cell_type": "code",
   "execution_count": null,
   "metadata": {},
   "outputs": [],
   "source": [
    "idata_d3z = az.from_pymc3(trace_d3z, posterior_predictive={\"cheshift\":pps_d3z})\n",
    "idata_d3z.observed_data['cheshift'] = idata_d3z.observed_data['cheshift'] * std_exp + mean_exp"
   ]
  },
  {
   "cell_type": "code",
   "execution_count": null,
   "metadata": {},
   "outputs": [],
   "source": [
    "# Plot LOO-PIT\n",
    "fig_, ax = plt.subplots(1, 2, figsize=(10, 4), sharey=True)\n",
    "az.plot_loo_pit(idata_d3z, y=\"cheshift\", legend=False, ax=ax[0])\n",
    "az.plot_loo_pit(idata_ubq, y=\"cheshift\", legend=False, ax=ax[1], color='purple')\n",
    "ax[0].set_title(protein2)\n",
    "ax[1].set_title(protein1)\n",
    "[ax[i].set_yticks([]) for i in range(len(ax))]\n",
    "[ax[i].set_xlabel(\"Probability Integral Transform\") for i in range(len(ax))]\n",
    "plt.tight_layout()\n",
    "plt.savefig(f\"images/{protein1}_{protein2}_loo_pit.png\")"
   ]
  },
  {
   "cell_type": "markdown",
   "metadata": {},
   "source": [
    "# Khat"
   ]
  },
  {
   "cell_type": "code",
   "execution_count": null,
   "metadata": {},
   "outputs": [],
   "source": [
    "# compute LOO separately\n",
    "loo_ubq = az.loo(trace_ubq, pointwise=True)\n",
    "loo_d3z = az.loo(trace_d3z, pointwise=True)"
   ]
  },
  {
   "cell_type": "code",
   "execution_count": null,
   "metadata": {},
   "outputs": [],
   "source": [
    "# Plot K-hat\n",
    "fig, ax = plt.subplots(1, 2, figsize=(10, 5), sharey=True)\n",
    "\n",
    "az.plot_khat(loo_d3z, hlines_kwargs={\"alpha\":0}, ax=ax[0])\n",
    "az.plot_khat(loo_ubq, hlines_kwargs={\"alpha\":0}, ax=ax[1])\n",
    "\n",
    "da_d3z = dataframe_d3z.res[loo_d3z.pareto_k.values > 0.7]\n",
    "xs_d3z = da_d3z.index.values + 1\n",
    "text_d3z = [a + \" \" + str(b) for a, b in zip(da_d3z, xs_d3z)]\n",
    "ys_d3z = loo_d3z.pareto_k[loo_d3z.pareto_k > 0.7].values\n",
    "\n",
    "for tx, x, y in zip(text_d3z, xs_d3z, ys_d3z):\n",
    "    ax[0].annotate(tx, (x + 0.5 - dataframe_d3z.index[0], y))\n",
    "    \n",
    "da_ubq = dataframe_ubq.res[loo_ubq.pareto_k.values > 0.7]\n",
    "xs_ubq = da_ubq.index.values +1\n",
    "text_ubq = [a + \" \" + str(b) for a, b in zip(da_ubq, xs_ubq)]\n",
    "ys_ubq = loo_ubq.pareto_k[loo_ubq.pareto_k > 0.7].values\n",
    "\n",
    "for tx, x, y in zip(text_ubq, xs_ubq, ys_ubq):\n",
    "    ax[1].annotate(tx, (x + 0.5 - dataframe_ubq.index[0], y))\n",
    "\n",
    "[ax[i].axhline(0.7, color='C1', ls='--') for i in range(len(ax))]\n",
    "    \n",
    "[ax[i].set_xticks([-1, 8, 18, 28, 38, 48, 58, 68]) for i in range(len(ax))]\n",
    "[ax[i].set_xticklabels(['0', '10', '20', '30', '40', '50', '60', '70']) for i in range(len(ax))]\n",
    "\n",
    "[ax[i].set_title(protein) for i, protein in enumerate([protein2, protein1])]\n",
    "[ax[i].set_xlabel('Residue') for i in range(len(ax))]\n",
    "\n",
    "plt.tight_layout()\n",
    "\n",
    "plt.savefig(f\"images/{protein1}_{protein2}_khat.png\")"
   ]
  },
  {
   "cell_type": "markdown",
   "metadata": {},
   "source": [
    "# ELPD"
   ]
  },
  {
   "cell_type": "code",
   "execution_count": null,
   "metadata": {},
   "outputs": [],
   "source": [
    "# compute ELPD difference\n",
    "loo_ubq = az.loo(trace_ubq, pointwise=True).loo_i.values\n",
    "loo_d3z = az.loo(trace_d3z, pointwise=True).loo_i.values\n",
    "elpd = loo_d3z - loo_ubq"
   ]
  },
  {
   "cell_type": "code",
   "execution_count": 16,
   "metadata": {},
   "outputs": [
    {
     "name": "stderr",
     "output_type": "stream",
     "text": [
      "C:\\Users\\User\\Anaconda3\\envs\\val\\lib\\site-packages\\arviz\\stats\\stats.py:692: UserWarning: Estimated shape parameter of Pareto distribution is greater than 0.7 for one or more samples. You should consider using a more robust model, this is because importance sampling is less likely to work well if the marginal posterior and LOO posterior are very different. This is more likely to happen with a non-robust model and highly influential observations.\n",
      "  warnings.warn(\n",
      "C:\\Users\\User\\Anaconda3\\envs\\val\\lib\\site-packages\\arviz\\stats\\stats.py:692: UserWarning: Estimated shape parameter of Pareto distribution is greater than 0.7 for one or more samples. You should consider using a more robust model, this is because importance sampling is less likely to work well if the marginal posterior and LOO posterior are very different. This is more likely to happen with a non-robust model and highly influential observations.\n",
      "  warnings.warn(\n",
      "C:\\Users\\User\\Anaconda3\\envs\\val\\lib\\site-packages\\arviz\\plots\\backends\\matplotlib\\elpdplot.py:106: UserWarning: This figure was using constrained_layout==True, but that is incompatible with subplots_adjust and or tight_layout: setting constrained_layout==False. \n",
      "  fig.autofmt_xdate()\n"
     ]
    },
    {
     "data": {
      "image/png": "[encoded data removed]",
      "text/plain": [
       "<Figure size 720x480 with 1 Axes>"
      ]
     },
     "metadata": {},
     "output_type": "display_data"
    }
   ],
   "source": [
    "# plot ELPD difference\n",
    "ax = az.plot_elpd({\"1D3Z\": idata_d3z, \"1UBQ\": idata_ubq}, xlabels=True)\n",
    "ax.axhline(0, 0, 74, linestyle='dashed')\n",
    "ax.set_xlabel('Residue')\n",
    "ax.set_ylabel('$ELPD_{1D3Z}-ELPD_{1UBQ}$')\n",
    "ax.set_xlim(1, len(dataframe_ubq))\n",
    "ax.set_xticks([-1, 8, 18, 28, 38, 48, 58, 68])\n",
    "ax.set_xticklabels(['0', '10', '20', '30', '40', '50', '60', '70'])\n",
    "ax.set_title('')\n",
    "da_ubq_1 = dataframe_ubq.res[elpd > 4]\n",
    "da_ubq_2 = dataframe_ubq.res[elpd < -4]\n",
    "da_ubq = pd.concat([da_ubq_1, da_ubq_2])\n",
    "xs_ubq = da_ubq.index.values+1\n",
    "text_ubq = [a + \" \" + str(b) for a, b in zip(da_ubq, xs_ubq)]\n",
    "ys_ubq = np.concatenate([elpd[elpd > 4], elpd[elpd < -4]])\n",
    "\n",
    "for tx, x, y in zip(text_ubq, xs_ubq, ys_ubq):\n",
    "    ax.annotate(tx, (x + 0.5 - dataframe_ubq.index[0], y) )\n",
    "\n",
    "plt.savefig(f'images/{protein1}_{protein2}_ELPD.png', bbox_inches=\"tight\");"
   ]
  },
  {
   "cell_type": "code",
   "execution_count": 17,
   "metadata": {},
   "outputs": [
    {
     "name": "stdout",
     "output_type": "stream",
     "text": [
      "Python implementation: CPython\n",
      "Python version       : 3.8.5\n",
      "IPython version      : 7.20.0\n",
      "\n",
      "numpy     : 1.20.1\n",
      "matplotlib: 3.3.4\n",
      "pymc3     : 3.11.0\n",
      "arviz     : 0.11.1\n",
      "\n",
      "Compiler    : MSC v.1916 64 bit (AMD64)\n",
      "OS          : Windows\n",
      "Release     : 10\n",
      "Machine     : AMD64\n",
      "Processor   : Intel64 Family 6 Model 142 Stepping 10, GenuineIntel\n",
      "CPU cores   : 8\n",
      "Architecture: 64bit\n",
      "\n"
     ]
    }
   ],
   "source": [
    "%watermark -v -m -p numpy,matplotlib,pymc3,arviz"
   ]
  }
 ],
 "metadata": {
  "kernelspec": {
   "display_name": "Python 3",
   "language": "python",
   "name": "python3"
  },
  "language_info": {
   "codemirror_mode": {
    "name": "ipython",
    "version": 3
   },
   "file_extension": ".py",
   "mimetype": "text/x-python",
   "name": "python",
   "nbconvert_exporter": "python",
   "pygments_lexer": "ipython3",
   "version": "3.8.5"
  }
 },
 "nbformat": 4,
 "nbformat_minor": 4
}
