{
 "cells": [
  {
   "cell_type": "markdown",
   "metadata": {},
   "source": [
    "# Example for reference densities plot"
   ]
  },
  {
   "cell_type": "code",
   "execution_count": null,
   "metadata": {},
   "outputs": [],
   "source": [
    "%matplotlib notebook\n",
    "%load_ext watermark\n",
    "import matplotlib.pyplot as plt\n",
    "import arviz as az\n",
    "import pandas as pd\n",
    "import numpy as np\n",
    "\n",
    "\n",
    "from hierarchical_bayes_nmr_validation import *"
   ]
  },
  {
   "cell_type": "code",
   "execution_count": null,
   "metadata": {},
   "outputs": [],
   "source": [
    "# .pdb files for the structures to compare must be on the .\\data folder along with the corresponding BMRB file\n",
    "protein1 = \"1UBQ\"\n",
    "protein2 = '1D3Z'\n",
    "bmrb_code = '6457'\n",
    "marker = 'x'\n",
    "samples = 2000"
   ]
  },
  {
   "cell_type": "code",
   "execution_count": null,
   "metadata": {
    "scrolled": false
   },
   "outputs": [],
   "source": [
    "with plt.style.context('arviz-white'):\n",
    "    ax_ubq, dataframe_ubq, perct_dict_ubq, trace_ubq, pps_ubq = plot_cs_differences(\n",
    "                                                                                    protein1, \n",
    "                                                                                    save=True, \n",
    "                                                                                    pymol_session=True, \n",
    "                                                                                    bmrb_code=bmrb_code,\n",
    "                                                                                    marker='^',\n",
    "                                                                                    plot_kwargs={'s':15,\n",
    "                                                                                                })"
   ]
  },
  {
   "cell_type": "code",
   "execution_count": null,
   "metadata": {},
   "outputs": [],
   "source": [
    "with plt.style.context('arviz-white'):\n",
    "    ax_d3z, dataframe_d3z, perct_dict_d3z, trace_d3z, pps_d3z = plot_cs_differences(protein2,\n",
    "                                                                                    save=True, \n",
    "                                                                                    pymol_session=True, \n",
    "                                                                                    bmrb_code=bmrb_code, \n",
    "                                                                                    ax=ax_ubq, \n",
    "                                                                                    perct_dict=perct_dict_ubq\n",
    "    )"
   ]
  },
  {
   "cell_type": "code",
   "execution_count": null,
   "metadata": {},
   "outputs": [],
   "source": [
    "%watermark -v -m -p numpy,matplotlib,pymc3,arviz"
   ]
  }
 ],
 "metadata": {
  "kernelspec": {
   "display_name": "Python 3",
   "language": "python",
   "name": "python3"
  },
  "language_info": {
   "codemirror_mode": {
    "name": "ipython",
    "version": 3
   },
   "file_extension": ".py",
   "mimetype": "text/x-python",
   "name": "python",
   "nbconvert_exporter": "python",
   "pygments_lexer": "ipython3",
   "version": "3.8.5"
  }
 },
 "nbformat": 4,
 "nbformat_minor": 4
}
